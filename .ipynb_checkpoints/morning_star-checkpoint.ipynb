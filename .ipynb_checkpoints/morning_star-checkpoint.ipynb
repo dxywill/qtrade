{
 "cells": [
  {
   "cell_type": "code",
   "execution_count": 1,
   "metadata": {},
   "outputs": [],
   "source": [
    "import sys\n",
    "\n",
    "import numpy as np\n",
    "import pandas as pd\n",
    "from datetime import datetime\n",
    "import plotly.graph_objects as go\n",
    "\n",
    "import tushare as ts\n",
    "sys.path.insert(0, './../tushare_code/')"
   ]
  },
  {
   "cell_type": "code",
   "execution_count": 2,
   "metadata": {},
   "outputs": [],
   "source": [
    "df_gldq = ts.get_hist_data('000651', start='2016-05-06', end='2019-05-06')"
   ]
  },
  {
   "cell_type": "code",
   "execution_count": 3,
   "metadata": {},
   "outputs": [],
   "source": [
    "df_close = df_gldq.close\n",
    "df_open  = df_gldq.open"
   ]
  },
  {
   "cell_type": "code",
   "execution_count": 4,
   "metadata": {},
   "outputs": [],
   "source": [
    "df_diff = df_close - df_open"
   ]
  },
  {
   "cell_type": "code",
   "execution_count": 7,
   "metadata": {},
   "outputs": [],
   "source": [
    "stats = df_diff.describe()"
   ]
  },
  {
   "cell_type": "code",
   "execution_count": 10,
   "metadata": {},
   "outputs": [
    {
     "data": {
      "text/plain": [
       "count    104.000000\n",
       "mean       0.032885\n",
       "std        0.947562\n",
       "min       -2.590000\n",
       "25%       -0.392500\n",
       "50%        0.000000\n",
       "75%        0.455000\n",
       "max        5.500000\n",
       "dtype: float64"
      ]
     },
     "execution_count": 10,
     "metadata": {},
     "output_type": "execute_result"
    }
   ],
   "source": [
    "stats"
   ]
  },
  {
   "cell_type": "code",
   "execution_count": 11,
   "metadata": {},
   "outputs": [
    {
     "data": {
      "text/plain": [
       "5.5"
      ]
     },
     "execution_count": 11,
     "metadata": {},
     "output_type": "execute_result"
    }
   ],
   "source": [
    "stats[-1]"
   ]
  },
  {
   "cell_type": "code",
   "execution_count": null,
   "metadata": {},
   "outputs": [],
   "source": [
    "def get_morning_star_indices(df):\n",
    "    df_close = df.close\n",
    "    df_open = df.open\n",
    "    df_diff = df.close - df.open\n",
    "    stats = df_diff.describe() # count, mean, std, min, 25%, 50%, 75%, max \n",
    "    lag1 = df_diff.shift(1)\n",
    "    lag2 = df_diff.shift(2)\n",
    "    # 捕捉绿色实体，十字星和红色实体\n",
    "    shape = [0, 0, 0]\n",
    "    for i in range(3, len(df_diff)):\n",
    "        if all([lag2[i] < stats[4], abs(lag1[i]) < stats[1], df_diff[i]])\n",
    "    "
   ]
  }
 ],
 "metadata": {
  "kernelspec": {
   "display_name": "Python 3",
   "language": "python",
   "name": "python3"
  },
  "language_info": {
   "codemirror_mode": {
    "name": "ipython",
    "version": 3
   },
   "file_extension": ".py",
   "mimetype": "text/x-python",
   "name": "python",
   "nbconvert_exporter": "python",
   "pygments_lexer": "ipython3",
   "version": "3.6.6"
  }
 },
 "nbformat": 4,
 "nbformat_minor": 2
}
